{
 "cells": [
  {
   "cell_type": "code",
   "execution_count": 1,
   "id": "434fc54f",
   "metadata": {},
   "outputs": [
    {
     "name": "stdout",
     "output_type": "stream",
     "text": [
      "Requirement already satisfied: durable_rules in c:\\users\\joohy\\anaconda3\\envs\\tf3\\lib\\site-packages (2.0.28)\n"
     ]
    }
   ],
   "source": [
    "!pip install durable_rules"
   ]
  },
  {
   "cell_type": "code",
   "execution_count": 2,
   "id": "6a6fc692",
   "metadata": {},
   "outputs": [],
   "source": [
    "from durable.lang import *"
   ]
  },
  {
   "cell_type": "code",
   "execution_count": 3,
   "id": "bfccdbbc",
   "metadata": {},
   "outputs": [
    {
     "name": "stdout",
     "output_type": "stream",
     "text": [
      "Hello World\n"
     ]
    },
    {
     "data": {
      "text/plain": [
       "{'sid': '0', 'id': 'sid-0', '$s': 1}"
      ]
     },
     "execution_count": 3,
     "metadata": {},
     "output_type": "execute_result"
    }
   ],
   "source": [
    "with ruleset('testRS'):\n",
    "    @when_all(m.subject == 'World')\n",
    "    def say_hello(c):\n",
    "        print('Hello {0}'.format(c.m.subject))\n",
    "\n",
    "post('testRS', {'subject' : 'World'})"
   ]
  },
  {
   "cell_type": "code",
   "execution_count": 4,
   "id": "8388b623",
   "metadata": {},
   "outputs": [
    {
     "name": "stdout",
     "output_type": "stream",
     "text": [
      "Fact : joohyung want academic club\n",
      "Fact : joohyung need to participate regular meeting\n",
      "Fact : joohyung recommends joining AVES\n",
      "Fact : joohyung want language study\n",
      "Fact : Sohee want exercise club\n",
      "Fact : Sohee want ball sport\n",
      "Fact : Sohee need to buy badminton racket\n",
      "Fact : Sohee recommends joining kok_kok\n",
      "Fact : Sohee want indoor sport\n"
     ]
    },
    {
     "data": {
      "text/plain": [
       "{'sid': '0', 'id': 'sid-0', '$s': 1}"
      ]
     },
     "execution_count": 4,
     "metadata": {},
     "output_type": "execute_result"
    }
   ],
   "source": [
    "with ruleset('club'):\n",
    "    @when_all(c.first << (m.predicate == 'want')&(m.object == 'exercise club'),\n",
    "              (m.predicate == 'want')&(m.object == 'ball sport'),\n",
    "              (m.predicate == 'want')&(m.object == 'outdoor sport') & (m.subject == c.first.subject))\n",
    "    def baseball(c):\n",
    "        c.assert_fact({'subject':c.first.subject, 'predicate':'recommends joining', 'object':'TAURUS'})\n",
    "\n",
    "\n",
    "    @when_all(c.first << (m.predicate == 'want')&(m.object == 'exercise club'),\n",
    "               (m.predicate == 'want')&(m.object == 'ball sport'),\n",
    "               (m.predicate == 'want')&(m.object == 'indoor sport') & (m.subject == c.first.subject))\n",
    "    def badminnton(c):\n",
    "        c.assert_fact({'subject':c.first.subject, 'predicate':'recommends joining', 'object':'kok_kok'})\n",
    "\n",
    "    @when_all(c.first << (m.predicate == 'want')&(m.object == 'exercise club'),\n",
    "               (m.predicate == 'do not want')&(m.object == 'ball sport'),\n",
    "               (m.predicate == 'want')&(m.object == 'summer sport') & (m.subject == c.first.subject))\n",
    "    def swim(c):\n",
    "        c.assert_fact({'subject':c.first.subject, 'predicate':'recommends joining', 'object':'swimming_love'})\n",
    "\n",
    "    @when_all(c.first << (m.predicate == 'want')&(m.object == 'exercise club'),\n",
    "               (m.predicate == 'do not want')&(m.object == 'ball sport'),\n",
    "               (m.predicate == 'want')&(m.object == 'winter sport') & (m.subject == c.first.subject))\n",
    "    def ski(c):\n",
    "         c.assert_fact({'subject':c.first.subject, 'predicate':'recommends joining', 'object':'ski_love'})\n",
    "\n",
    "    @when_all(c.first << (m.predicate == 'want')&(m.object == 'academic club'),\n",
    "               (m.predicate == 'want')&(m.object == 'language study') & (m.subject == c.first.subject))\n",
    "    def AVES(c):\n",
    "        c.assert_fact({'subject':c.first.subject, 'predicate':'recommends joining', 'object':'AVES'})\n",
    "\n",
    "    @when_all(c.first << (m.predicate == 'want')&(m.object == 'academic club'),\n",
    "               (m.predicate == 'want')&(m.object == 'academic competition') & (m.subject == c.first.subject))\n",
    "    def GAON(c):\n",
    "        c.assert_fact({'subject':c.first.subject, 'predicate':'recommends joining', 'object':'GAON'})\n",
    "        \n",
    "    @when_all((m.predicate == 'recommends joining') &  (m.object == 'TAURUS'))\n",
    "    def tennis_racket(c):\n",
    "        c.assert_fact({'subject':c.m.subject, 'predicate':'need to buy', 'object':'tennis racket'})\n",
    "        \n",
    "    @when_all((m.predicate == 'recommends joining') & (m.object == 'kok_kok'))\n",
    "    def badminton_racket(c):\n",
    "        c.assert_fact({'subject':c.m.subject, 'predicate':'need to buy', 'object':'badminton racket'})\n",
    "        \n",
    "    @when_all((m.predicate == 'recommends joining') & (m.object == 'swimming_love'))\n",
    "    def swimming_glasses(c):\n",
    "        c.assert_fact({'subject':c.m.subject, 'predicate':'need to buy', 'object':'swimming glasses'})\n",
    "        \n",
    "    @when_all((m.predicate == 'recommends joining') &  (m.object == 'ski_love'))\n",
    "    def ski_equipment(c):\n",
    "        c.assert_fact({'subject':c.m.subject, 'predicate':'need to buy', 'object':'ski equipment'})\n",
    "        \n",
    "    @when_all((m.predicate == 'recommends joining') &  (m.object == 'AVES'))\n",
    "    def regular_meeting(c):\n",
    "        c.assert_fact({'subject':c.m.subject, 'predicate':'need to participate', 'object':'regular meeting'})\n",
    "        \n",
    "    @when_all((m.predicate == 'recommends joining') &  (m.object == 'GAON'))\n",
    "    def made_team(c):\n",
    "        c.assert_fact({'subject':c.m.subject, 'predicate':'need to made', 'object':'team'})\n",
    "        \n",
    "    @when_all(+m.subject) #m.subject가 한 번 이상\n",
    "    def output(c):\n",
    "        print('Fact : {0} {1} {2}'.format(c.m.subject, c.m.predicate, c.m.object))\n",
    "\n",
    "assert_fact('club', {'subject' : 'joohyung', 'predicate':'want', 'object':'academic club'})\n",
    "assert_fact('club', {'subject' : 'joohyung', 'predicate':'want', 'object':'language study'})\n",
    "assert_fact('club', {'subject' : 'Sohee', 'predicate':'want', 'object':'exercise club'})\n",
    "assert_fact('club', {'subject' : 'Sohee', 'predicate':'want', 'object':'ball sport'})\n",
    "assert_fact('club', {'subject' : 'Sohee', 'predicate':'want', 'object':'indoor sport'})"
   ]
  },
  {
   "cell_type": "code",
   "execution_count": null,
   "id": "0c9a25e4",
   "metadata": {},
   "outputs": [],
   "source": []
  }
 ],
 "metadata": {
  "kernelspec": {
   "display_name": "Python 3 (ipykernel)",
   "language": "python",
   "name": "python3"
  },
  "language_info": {
   "codemirror_mode": {
    "name": "ipython",
    "version": 3
   },
   "file_extension": ".py",
   "mimetype": "text/x-python",
   "name": "python",
   "nbconvert_exporter": "python",
   "pygments_lexer": "ipython3",
   "version": "3.7.13"
  }
 },
 "nbformat": 4,
 "nbformat_minor": 5
}
